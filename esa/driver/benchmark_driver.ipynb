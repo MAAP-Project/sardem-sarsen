{
 "cells": [
  {
   "cell_type": "markdown",
   "id": "b7a215cf",
   "metadata": {},
   "source": [
    "# MAAP Benchmark with \"get-dem\" "
   ]
  },
  {
   "cell_type": "markdown",
   "id": "bd8b5c3c",
   "metadata": {},
   "source": [
    "## Setting up environment"
   ]
  },
  {
   "cell_type": "code",
   "execution_count": 1,
   "id": "67da2b1a",
   "metadata": {},
   "outputs": [
    {
     "name": "stdout",
     "output_type": "stream",
     "text": [
      "Requirement already satisfied: numpy in /opt/conda/lib/python3.7/site-packages (1.21.6)\n"
     ]
    }
   ],
   "source": [
    "import os\n",
    "from time import time\n",
    "import subprocess\n",
    "#Uncomment to install numpy\n",
    "! pip install numpy\n",
    "import numpy as np\n",
    "from datetime import datetime\n",
    "import json\n",
    "import time\n",
    "import glob\n",
    "import shutil\n",
    "\n",
    "# Uncomment to install sardem\n",
    "#!pip install sardem\n",
    "os.environ['PROJ_LIB']='/opt/conda/share/proj'"
   ]
  },
  {
   "cell_type": "markdown",
   "id": "62e68804",
   "metadata": {},
   "source": [
    "## Setup test"
   ]
  },
  {
   "cell_type": "code",
   "execution_count": 2,
   "id": "39acd6c4",
   "metadata": {},
   "outputs": [],
   "source": [
    "bboxes = [\n",
    "    '-118.06817 34.22169 -118.05801 34.22822',  # Mt Wilson (near JPL) (very small, ~8 sec)\n",
    "    '-124.81360 32.44506 -113.75989 42.24498', # CA and NV (uses ~5-6 GB RAM, takes a 9-10 minutes to run)\n",
    "    '6.26868 36.00380   18.57179 47.28139'  # Italy (Requires more than 8 GB RAM)\n",
    "         ]\n",
    "\n",
    "\n",
    "\n",
    "bbox_index = 0"
   ]
  },
  {
   "cell_type": "markdown",
   "id": "c8a1b1b3",
   "metadata": {},
   "source": [
    "## ADE Benchmark"
   ]
  },
  {
   "cell_type": "markdown",
   "id": "ee3c5d82",
   "metadata": {},
   "source": [
    "Launching the \"get-dem\" multiple time. \n",
    "* Make sure that there are no errors in the \"compute\" part when running the command line *"
   ]
  },
  {
   "cell_type": "code",
   "execution_count": null,
   "id": "12ddfdce",
   "metadata": {},
   "outputs": [],
   "source": [
    "exec_time_list = []\n",
    "start = time()\n",
    "\n",
    "i=0\n",
    "while i<mc_count:\n",
    "    start = time()\n",
    "    !sh /projects/get-dem/driver/run.sh -b {bboxes[bbox_index]} --compute TRUE 2>&1 > /dev/null\n",
    "    exec_time_list.append(time()-start)\n",
    "    !rm /projects/data/output/dem.tif\n",
    "    i = i+1\n"
   ]
  },
  {
   "cell_type": "code",
   "execution_count": null,
   "id": "f1dba992",
   "metadata": {},
   "outputs": [],
   "source": [
    "print(\"Mean execution time :\"+ str(np.mean(exec_time_list)))\n",
    "print(\"Mean execution time :\"+ str(np.std(exec_time_list)))"
   ]
  },
  {
   "cell_type": "markdown",
   "id": "83a90b49",
   "metadata": {},
   "source": [
    "## WPST Benchmark"
   ]
  },
  {
   "cell_type": "code",
   "execution_count": 3,
   "id": "3bf08196",
   "metadata": {},
   "outputs": [],
   "source": [
    "# Setup WPS-T tools\n",
    "from maap_utils.maap_process import MaapWPST\n",
    "from maap_utils.maap_authenticator import MaapAuthenticator\n",
    "\n",
    "maap_auth = MaapAuthenticator('/projects/.maap/auth.ini', '/projects/.maap/maap.ini')\n",
    "oauth_token = maap_auth.get_esa_token_with_esa_cred()\n",
    "\n",
    "maap_wpst = MaapWPST('/projects/.maap/maap.ini', oauth_token)"
   ]
  },
  {
   "cell_type": "code",
   "execution_count": 16,
   "id": "753d3306",
   "metadata": {},
   "outputs": [],
   "source": []
  },
  {
   "cell_type": "code",
   "execution_count": 17,
   "id": "cbde79fc",
   "metadata": {},
   "outputs": [
    {
     "name": "stdout",
     "output_type": "stream",
     "text": [
      "170420241452\n"
     ]
    }
   ],
   "source": [
    "# Generates \n",
    "run_id = datetime.now().strftime('%d%m%Y%H%M')\n",
    "mc_count = 20\n",
    "print(run_id)\n",
    "#shutil.rmtree('/projects/data')"
   ]
  },
  {
   "cell_type": "code",
   "execution_count": 18,
   "id": "94635bc7",
   "metadata": {},
   "outputs": [
    {
     "name": "stdout",
     "output_type": "stream",
     "text": [
      "[0, 1, 2, 3, 4, 5, 6, 7, 8, 9, 10, 11, 12, 13, 14, 15, 16, 17, 18, 19]\n",
      "{'jobId': '661fe2168e067a372cb6b013', 'status': 'ACCEPTED', 'message': 'https://argo.int.esa-maap.org/workflows/argo/exec-wf-get-dem-2024-04-17-14-52-05-92', 'progress': None}\n",
      "{'jobId': '661fe2178e067a372cb6b015', 'status': 'ACCEPTED', 'message': 'https://argo.int.esa-maap.org/workflows/argo/exec-wf-get-dem-2024-04-17-14-52-07-18', 'progress': None}\n",
      "{'jobId': '661fe2188e067a372cb6b017', 'status': 'ACCEPTED', 'message': 'https://argo.int.esa-maap.org/workflows/argo/exec-wf-get-dem-2024-04-17-14-52-08-36', 'progress': None}\n",
      "{'jobId': '661fe2198e067a372cb6b019', 'status': 'ACCEPTED', 'message': 'https://argo.int.esa-maap.org/workflows/argo/exec-wf-get-dem-2024-04-17-14-52-09-58', 'progress': None}\n",
      "{'jobId': '661fe21a8e067a372cb6b01b', 'status': 'ACCEPTED', 'message': 'https://argo.int.esa-maap.org/workflows/argo/exec-wf-get-dem-2024-04-17-14-52-10-77', 'progress': None}\n",
      "{'jobId': '661fe21b8e067a372cb6b01d', 'status': 'ACCEPTED', 'message': 'https://argo.int.esa-maap.org/workflows/argo/exec-wf-get-dem-2024-04-17-14-52-11-95', 'progress': None}\n",
      "{'jobId': '661fe21d8e067a372cb6b01f', 'status': 'ACCEPTED', 'message': 'https://argo.int.esa-maap.org/workflows/argo/exec-wf-get-dem-2024-04-17-14-52-13-12', 'progress': None}\n",
      "{'jobId': '661fe21e8e067a372cb6b021', 'status': 'ACCEPTED', 'message': 'https://argo.int.esa-maap.org/workflows/argo/exec-wf-get-dem-2024-04-17-14-52-14-31', 'progress': None}\n",
      "{'jobId': '661fe21f8e067a372cb6b023', 'status': 'ACCEPTED', 'message': 'https://argo.int.esa-maap.org/workflows/argo/exec-wf-get-dem-2024-04-17-14-52-15-48', 'progress': None}\n",
      "{'jobId': '661fe2208e067a372cb6b025', 'status': 'ACCEPTED', 'message': 'https://argo.int.esa-maap.org/workflows/argo/exec-wf-get-dem-2024-04-17-14-52-16-66', 'progress': None}\n",
      "{'jobId': '661fe2218e067a372cb6b027', 'status': 'ACCEPTED', 'message': 'https://argo.int.esa-maap.org/workflows/argo/exec-wf-get-dem-2024-04-17-14-52-17-82', 'progress': None}\n",
      "{'jobId': '661fe2238e067a372cb6b029', 'status': 'ACCEPTED', 'message': 'https://argo.int.esa-maap.org/workflows/argo/exec-wf-get-dem-2024-04-17-14-52-18-99', 'progress': None}\n",
      "{'jobId': '661fe2248e067a372cb6b02b', 'status': 'ACCEPTED', 'message': 'https://argo.int.esa-maap.org/workflows/argo/exec-wf-get-dem-2024-04-17-14-52-20-16', 'progress': None}\n",
      "{'jobId': '661fe2258e067a372cb6b02d', 'status': 'ACCEPTED', 'message': 'https://argo.int.esa-maap.org/workflows/argo/exec-wf-get-dem-2024-04-17-14-52-21-35', 'progress': None}\n",
      "{'jobId': '661fe2268e067a372cb6b02f', 'status': 'ACCEPTED', 'message': 'https://argo.int.esa-maap.org/workflows/argo/exec-wf-get-dem-2024-04-17-14-52-22-54', 'progress': None}\n",
      "{'jobId': '661fe2278e067a372cb6b031', 'status': 'ACCEPTED', 'message': 'https://argo.int.esa-maap.org/workflows/argo/exec-wf-get-dem-2024-04-17-14-52-23-71', 'progress': None}\n",
      "{'jobId': '661fe2288e067a372cb6b033', 'status': 'ACCEPTED', 'message': 'https://argo.int.esa-maap.org/workflows/argo/exec-wf-get-dem-2024-04-17-14-52-24-86', 'progress': None}\n",
      "{'jobId': '661fe22a8e067a372cb6b035', 'status': 'ACCEPTED', 'message': 'https://argo.int.esa-maap.org/workflows/argo/exec-wf-get-dem-2024-04-17-14-52-26-36', 'progress': None}\n",
      "{'jobId': '661fe22b8e067a372cb6b037', 'status': 'ACCEPTED', 'message': 'https://argo.int.esa-maap.org/workflows/argo/exec-wf-get-dem-2024-04-17-14-52-27-20', 'progress': None}\n",
      "{'jobId': '661fe22c8e067a372cb6b039', 'status': 'ACCEPTED', 'message': 'https://argo.int.esa-maap.org/workflows/argo/exec-wf-get-dem-2024-04-17-14-52-28-37', 'progress': None}\n",
      "0 <maap_utils.maap_process.MaapJob object at 0x7f3143ebcd90>\n",
      "1 <maap_utils.maap_process.MaapJob object at 0x7f3143fd38d0>\n",
      "2 <maap_utils.maap_process.MaapJob object at 0x7f3143fd4810>\n",
      "3 <maap_utils.maap_process.MaapJob object at 0x7f314408f990>\n",
      "4 <maap_utils.maap_process.MaapJob object at 0x7f3144064e90>\n",
      "5 <maap_utils.maap_process.MaapJob object at 0x7f3143fd3fd0>\n",
      "6 <maap_utils.maap_process.MaapJob object at 0x7f3144074850>\n",
      "7 <maap_utils.maap_process.MaapJob object at 0x7f3143e95550>\n",
      "8 <maap_utils.maap_process.MaapJob object at 0x7f3143fd3a50>\n",
      "9 <maap_utils.maap_process.MaapJob object at 0x7f3143e95290>\n",
      "10 <maap_utils.maap_process.MaapJob object at 0x7f31440823d0>\n",
      "11 <maap_utils.maap_process.MaapJob object at 0x7f3143fb4450>\n",
      "12 <maap_utils.maap_process.MaapJob object at 0x7f314481b8d0>\n",
      "13 <maap_utils.maap_process.MaapJob object at 0x7f3180529c10>\n",
      "14 <maap_utils.maap_process.MaapJob object at 0x7f31804da590>\n",
      "15 <maap_utils.maap_process.MaapJob object at 0x7f3143fd3d50>\n",
      "16 <maap_utils.maap_process.MaapJob object at 0x7f3143ebce50>\n",
      "17 <maap_utils.maap_process.MaapJob object at 0x7f3143e95590>\n",
      "18 <maap_utils.maap_process.MaapJob object at 0x7f3143ed1a50>\n",
      "19 <maap_utils.maap_process.MaapJob object at 0x7f31804da4d0>\n"
     ]
    }
   ],
   "source": [
    "remaining_job = list(range(mc_count))\n",
    "launched_job = []\n",
    "dps_name = []\n",
    "\n",
    "\n",
    "while len(remaining_job)!=0:\n",
    "    \n",
    "    job_num = remaining_job.pop(0)\n",
    "\n",
    "    maap_job = maap_wpst.launch_process(\n",
    "        'wf-get-dem',\n",
    "        [{\"id\":\"s_bbox\",\"data\":bboxes[bbox_index],\"href\":\"\"},\n",
    "         {\"id\":\"s_compute\",\"data\":\"TRUE\",\"href\":\"\"},\n",
    "         {'id': 'copy_dir_or_file', 'data': 'dir', 'href': ''},\n",
    "         {'id': 's3_destination', 'data': '', 'href': 'maap-scientific-data/shared/adu/todelete/benchmark/getdem'+run_id+'_'+str(job_num)},\n",
    "         {'id': 'source_folder', 'data': '/projects/data/output', 'href': ''}]\n",
    "    )\n",
    "    \n",
    "    if maap_job is not None:\n",
    "        launched_job.append( (job_num,maap_job) ) \n",
    "        dps_name.append (maap_job.dps_name)\n",
    "    else:\n",
    "        launched_job.append(job_num)\n",
    "        \n",
    "    time.sleep(1)\n",
    "    \n",
    "while len(launched_job)!=0:\n",
    "        \n",
    "    (job_num,a_job) = launched_job.pop(0)\n",
    "    maap_wpst.wait_for_final_status(a_job)\n",
    "    maap_wpst.write_outputs(a_job,'/projects/data/'+run_id+'_'+str(job_num))\n",
    "    maap_wpst.delete_job(a_job)\n",
    "    "
   ]
  },
  {
   "cell_type": "markdown",
   "id": "dd30801c",
   "metadata": {},
   "source": [
    "## Collect metrics"
   ]
  },
  {
   "cell_type": "code",
   "execution_count": 19,
   "id": "fbbac379",
   "metadata": {},
   "outputs": [],
   "source": [
    "# Collect profile.json files\n",
    "profile_glob = '/projects/data/*/profile.json'\n",
    "profile_json_path_list = glob.glob(profile_glob);\n",
    "#print(profile_json_path_list)\n"
   ]
  },
  {
   "cell_type": "code",
   "execution_count": null,
   "id": "5fe1c635",
   "metadata": {},
   "outputs": [],
   "source": []
  },
  {
   "cell_type": "code",
   "execution_count": 20,
   "id": "9def2b2a",
   "metadata": {},
   "outputs": [],
   "source": [
    "\n",
    "# get-dem ellapsed time\n",
    "elapsed_time = []\n",
    "# Maximum RAM\n",
    "max_footprint_mb = []\n",
    "\n",
    "# Metrics for line of code where n_cpu_percent_c!=0\n",
    "relevant_loc = {}\n",
    "\n",
    "for profile_json_path in profile_json_path_list :\n",
    "    with open(profile_json_path) as f:\n",
    "        profile_json= json.load(f)\n",
    "        \n",
    "        elapsed_time.append(float(profile_json['elapsed_time_sec']))\n",
    "        max_footprint_mb.append(float(profile_json['max_footprint_mb']))\n",
    "        \n",
    "        for code_line in profile_json[\"files\"][\"/opt/get-dem/get_dem.py\"][\"lines\"]:\n",
    "    \n",
    "            if code_line[\"n_cpu_percent_c\"] != 0.0 :\n",
    "            \n",
    "                if code_line['lineno'] not in relevant_loc:\n",
    "                    relevant_loc[code_line['lineno']] = {\"line\":code_line['line'],'n_core_utilization':[],'n_peak_mb':[]}\n",
    "                    \n",
    "                relevant_loc[code_line['lineno']]['n_core_utilization'].append(float(code_line['n_core_utilization']))\n",
    "                relevant_loc[code_line['lineno']]['n_peak_mb'].append(float(code_line['n_peak_mb']))\n",
    "\n",
    "        \n",
    "        "
   ]
  },
  {
   "cell_type": "code",
   "execution_count": 21,
   "id": "a1940ed3",
   "metadata": {},
   "outputs": [
    {
     "name": "stdout",
     "output_type": "stream",
     "text": [
      "Average elapsed time : 1.50 sec\n",
      "Average maximum RAM footprint  : 11.21 Mb\n"
     ]
    }
   ],
   "source": [
    "print( \"Average elapsed time : {:.2f} sec\".format(np.mean(elapsed_time)))\n",
    "print( \"Average maximum RAM footprint  : {:.2f} Mb\".format(np.mean(max_footprint_mb)))\n",
    " "
   ]
  },
  {
   "cell_type": "code",
   "execution_count": 22,
   "id": "ba71b93c",
   "metadata": {},
   "outputs": [
    {
     "name": "stdout",
     "output_type": "stream",
     "text": [
      "===== Relevant Line-Of-Code metrics =====\n",
      "\n",
      "line 8 : import numpy as np\n",
      "\n",
      "\tAverage n_core_utilization : 0.07 sec\n",
      "\tAverage n_peak_mb : 0.00 Mo\n",
      " \n",
      " ----- \n",
      "\n",
      "line 9 : from osgeo import gdal  # type: ignore\n",
      "\n",
      "\tAverage n_core_utilization : 0.06 sec\n",
      "\tAverage n_peak_mb : 0.00 Mo\n",
      " \n",
      " ----- \n",
      "\n",
      "line 10 : from sardem import cop_dem  # type: ignore\n",
      "\n",
      "\tAverage n_core_utilization : 0.07 sec\n",
      "\tAverage n_peak_mb : 10.01 Mo\n",
      " \n",
      " ----- \n",
      "\n",
      "line 66 :     cop_dem.download_and_stitch(dem_file, bbox, output_format=\"GTiff\")\n",
      "\n",
      "\tAverage n_core_utilization : 0.05 sec\n",
      "\tAverage n_peak_mb : 1.00 Mo\n",
      " \n",
      " ----- \n",
      "\n",
      "line 129 :     parser = argparse.ArgumentParser()\n",
      "\n",
      "\tAverage n_core_utilization : 0.04 sec\n",
      "\tAverage n_peak_mb : 0.00 Mo\n",
      " \n",
      " ----- \n",
      "\n",
      "line 27 : class Args:\n",
      "\n",
      "\tAverage n_core_utilization : 0.05 sec\n",
      "\tAverage n_peak_mb : 0.00 Mo\n",
      " \n",
      " ----- \n",
      "\n"
     ]
    }
   ],
   "source": [
    "print(\"===== Relevant Line-Of-Code metrics =====\\n\")\n",
    "for met_loc in relevant_loc:\n",
    "    print( \"line {} : {}\".format(met_loc,relevant_loc[met_loc][\"line\"]))\n",
    "    print( \"\\tAverage n_core_utilization : {:.2f} sec\".format(np.mean(relevant_loc[met_loc][\"n_core_utilization\"])))\n",
    "    print( \"\\tAverage n_peak_mb : {:.2f} Mo\".format(np.mean(relevant_loc[met_loc][\"n_peak_mb\"])))\n",
    "    print(\" \\n ----- \\n\")"
   ]
  },
  {
   "cell_type": "code",
   "execution_count": 23,
   "id": "4579f220",
   "metadata": {},
   "outputs": [
    {
     "name": "stdout",
     "output_type": "stream",
     "text": [
      "DPS Average elapsed time : 130.40 sec\n",
      "DPS Average maximum RAM footprint  : 284.22 Mb\n",
      "DPS Average CPU  : 0.07 %\n"
     ]
    }
   ],
   "source": [
    "dps_elapsed_s = []\n",
    "dps_cpu_percent = []\n",
    "dps_ram_mb = []\n",
    "\n",
    "for monit in maap_wpst.get_monitoring():\n",
    "    if monit['processorName'] in dps_name:\n",
    "        dps_elapsed_s.append(float(monit['executionTime']))\n",
    "        dps_cpu_percent.append(float(monit['cpuConsumed']))\n",
    "        dps_ram_mb.append(float(monit['ramConsumed']))\n",
    "\n",
    "        \n",
    "print( \"DPS Average elapsed time : {:.2f} sec\".format(np.mean(dps_elapsed_s)))\n",
    "print( \"DPS Average maximum RAM footprint  : {:.2f} Mb\".format(np.mean(dps_ram_mb)))\n",
    "print( \"DPS Average CPU  : {:.2f} %\".format(np.mean(dps_cpu_percent)))"
   ]
  },
  {
   "cell_type": "code",
   "execution_count": null,
   "id": "803227a7",
   "metadata": {},
   "outputs": [],
   "source": []
  },
  {
   "cell_type": "code",
   "execution_count": null,
   "id": "bba8a31e",
   "metadata": {},
   "outputs": [],
   "source": []
  },
  {
   "cell_type": "code",
   "execution_count": null,
   "id": "673f204f",
   "metadata": {},
   "outputs": [],
   "source": []
  },
  {
   "cell_type": "code",
   "execution_count": null,
   "id": "e72056e7",
   "metadata": {},
   "outputs": [],
   "source": []
  },
  {
   "cell_type": "code",
   "execution_count": null,
   "id": "51fac1b1",
   "metadata": {},
   "outputs": [],
   "source": []
  }
 ],
 "metadata": {
  "kernelspec": {
   "display_name": "Python 3 (ipykernel)",
   "language": "python",
   "name": "python3"
  },
  "language_info": {
   "codemirror_mode": {
    "name": "ipython",
    "version": 3
   },
   "file_extension": ".py",
   "mimetype": "text/x-python",
   "name": "python",
   "nbconvert_exporter": "python",
   "pygments_lexer": "ipython3",
   "version": "3.7.4"
  }
 },
 "nbformat": 4,
 "nbformat_minor": 5
}
